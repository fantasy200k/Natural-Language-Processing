{
 "cells": [
  {
   "cell_type": "code",
   "execution_count": 1,
   "metadata": {},
   "outputs": [],
   "source": [
    "import re # regular expressions"
   ]
  },
  {
   "cell_type": "code",
   "execution_count": 2,
   "metadata": {},
   "outputs": [
    {
     "name": "stdout",
     "output_type": "stream",
     "text": [
      "['hello', 'world', 'how', 'are', 'you']\n"
     ]
    }
   ],
   "source": [
    "s = \"hello world how are you \"\n",
    "print(s.split())"
   ]
  },
  {
   "cell_type": "code",
   "execution_count": 4,
   "metadata": {},
   "outputs": [
    {
     "name": "stdout",
     "output_type": "stream",
     "text": [
      "['get', 'gloves,', 'get', 'MASK,', 'give', 'vitamins,', 'call', 'ambulance', 'in', 'case', 'of', 'emergence']\n"
     ]
    }
   ],
   "source": [
    "s1 = 'get gloves, get MASK, give vitamins, call ambulance in case of emergence'\n",
    "print(s1.split(' '))"
   ]
  },
  {
   "cell_type": "code",
   "execution_count": 11,
   "metadata": {},
   "outputs": [
    {
     "data": {
      "text/plain": [
       "['get gloves',\n",
       " ' get MASK',\n",
       " ' give vitamins',\n",
       " ' call ambulance in case of emergence']"
      ]
     },
     "execution_count": 11,
     "metadata": {},
     "output_type": "execute_result"
    }
   ],
   "source": [
    "s2 = str(s1).split(',')\n",
    "s2"
   ]
  },
  {
   "cell_type": "code",
   "execution_count": 12,
   "metadata": {},
   "outputs": [
    {
     "data": {
      "text/plain": [
       "'Hello world how are you '"
      ]
     },
     "execution_count": 12,
     "metadata": {},
     "output_type": "execute_result"
    }
   ],
   "source": [
    "s.capitalize()"
   ]
  },
  {
   "cell_type": "code",
   "execution_count": 15,
   "metadata": {},
   "outputs": [
    {
     "name": "stdout",
     "output_type": "stream",
     "text": [
      "HELLO WORLD HOW ARE YOU \n"
     ]
    }
   ],
   "source": [
    "if s.islower():\n",
    "    print(s.upper())"
   ]
  },
  {
   "cell_type": "code",
   "execution_count": 17,
   "metadata": {},
   "outputs": [
    {
     "data": {
      "text/plain": [
       "5"
      ]
     },
     "execution_count": 17,
     "metadata": {},
     "output_type": "execute_result"
    }
   ],
   "source": [
    "s.count(' ')"
   ]
  },
  {
   "cell_type": "code",
   "execution_count": 18,
   "metadata": {},
   "outputs": [
    {
     "data": {
      "text/plain": [
       "'earth'"
      ]
     },
     "execution_count": 18,
     "metadata": {},
     "output_type": "execute_result"
    }
   ],
   "source": [
    "word = \"   earth \"\n",
    "word.strip()"
   ]
  },
  {
   "cell_type": "code",
   "execution_count": 38,
   "metadata": {},
   "outputs": [
    {
     "data": {
      "text/plain": [
       "'earth'"
      ]
     },
     "execution_count": 38,
     "metadata": {},
     "output_type": "execute_result"
    }
   ],
   "source": [
    "word = \"earth  \"\n",
    "word.rstrip()"
   ]
  },
  {
   "cell_type": "code",
   "execution_count": 39,
   "metadata": {},
   "outputs": [
    {
     "data": {
      "text/plain": [
       "['wwww', 'test', 'com']"
      ]
     },
     "execution_count": 39,
     "metadata": {},
     "output_type": "execute_result"
    }
   ],
   "source": [
    "'wwww.test.com'.rsplit(sep='.')"
   ]
  },
  {
   "cell_type": "code",
   "execution_count": 40,
   "metadata": {},
   "outputs": [
    {
     "data": {
      "text/plain": [
       "['wwww.test', 'com']"
      ]
     },
     "execution_count": 40,
     "metadata": {},
     "output_type": "execute_result"
    }
   ],
   "source": [
    "'wwww.test.com'.rsplit(sep='.',maxsplit=1)"
   ]
  },
  {
   "cell_type": "code",
   "execution_count": 19,
   "metadata": {},
   "outputs": [
    {
     "data": {
      "text/plain": [
       "2"
      ]
     },
     "execution_count": 19,
     "metadata": {},
     "output_type": "execute_result"
    }
   ],
   "source": [
    "s1.count('get')"
   ]
  },
  {
   "cell_type": "code",
   "execution_count": 20,
   "metadata": {},
   "outputs": [
    {
     "data": {
      "text/plain": [
       "False"
      ]
     },
     "execution_count": 20,
     "metadata": {},
     "output_type": "execute_result"
    }
   ],
   "source": [
    "s1.startswith('M')"
   ]
  },
  {
   "cell_type": "code",
   "execution_count": 21,
   "metadata": {},
   "outputs": [
    {
     "data": {
      "text/plain": [
       "True"
      ]
     },
     "execution_count": 21,
     "metadata": {},
     "output_type": "execute_result"
    }
   ],
   "source": [
    "s1.endswith('e')"
   ]
  },
  {
   "cell_type": "markdown",
   "metadata": {},
   "source": [
    "# String Concatenation"
   ]
  },
  {
   "cell_type": "code",
   "execution_count": 23,
   "metadata": {},
   "outputs": [
    {
     "name": "stdout",
     "output_type": "stream",
     "text": [
      "w;o;r;d\n"
     ]
    }
   ],
   "source": [
    "word = 'Hello23'\n",
    "print(\";\".join(\"word\"))"
   ]
  },
  {
   "cell_type": "code",
   "execution_count": 29,
   "metadata": {},
   "outputs": [
    {
     "name": "stdout",
     "output_type": "stream",
     "text": [
      "rajkumar84\n"
     ]
    }
   ],
   "source": [
    "print(fname + lname + str(Age))"
   ]
  },
  {
   "cell_type": "code",
   "execution_count": 33,
   "metadata": {},
   "outputs": [
    {
     "name": "stdout",
     "output_type": "stream",
     "text": [
      "Hello  World \n"
     ]
    }
   ],
   "source": [
    "var1 = 'Hello'\n",
    "var2 = 'World'\n",
    "print(\"%s  %s \" % (var1,var2))"
   ]
  },
  {
   "cell_type": "code",
   "execution_count": 24,
   "metadata": {},
   "outputs": [
    {
     "name": "stdout",
     "output_type": "stream",
     "text": [
      "raj kumar is 84 years old\n"
     ]
    }
   ],
   "source": [
    "fname = \"raj\"\n",
    "lname = 'kumar'\n",
    "Age = 84\n",
    "print(\"{} {} is {} years old\".format(fname,lname,Age))"
   ]
  },
  {
   "cell_type": "code",
   "execution_count": 30,
   "metadata": {},
   "outputs": [
    {
     "name": "stdout",
     "output_type": "stream",
     "text": [
      "raj kumar is 84 years old\n"
     ]
    }
   ],
   "source": [
    "print(f\"{fname} {lname} is {Age} years old\")"
   ]
  },
  {
   "cell_type": "code",
   "execution_count": 35,
   "metadata": {},
   "outputs": [
    {
     "data": {
      "text/plain": [
       "'test'"
      ]
     },
     "execution_count": 35,
     "metadata": {},
     "output_type": "execute_result"
    }
   ],
   "source": [
    "word = '32test'\n",
    "word.replace('32','')\n"
   ]
  },
  {
   "cell_type": "code",
   "execution_count": 37,
   "metadata": {},
   "outputs": [
    {
     "data": {
      "text/plain": [
       "False"
      ]
     },
     "execution_count": 37,
     "metadata": {},
     "output_type": "execute_result"
    }
   ],
   "source": [
    "word.isdigit()"
   ]
  },
  {
   "cell_type": "code",
   "execution_count": 41,
   "metadata": {},
   "outputs": [
    {
     "name": "stdout",
     "output_type": "stream",
     "text": [
      "Collecting regex\n",
      "  Downloading https://files.pythonhosted.org/packages/9c/d1/d2ecb51a8cb38c8278e77a2731c1366881e0dea9671f135d2625f15a73a4/regex-2020.7.14-cp37-cp37m-win_amd64.whl (268kB)\n",
      "Installing collected packages: regex\n",
      "Successfully installed regex-2020.7.14\n"
     ]
    }
   ],
   "source": [
    "! pip install regex"
   ]
  },
  {
   "cell_type": "code",
   "execution_count": 51,
   "metadata": {},
   "outputs": [
    {
     "name": "stdout",
     "output_type": "stream",
     "text": [
      "Young Frank\n"
     ]
    }
   ],
   "source": [
    "source = 'Young Frankstein'\n",
    "m = re.match('.*Frank',source)\n",
    "if m:\n",
    "    print(m.group())"
   ]
  },
  {
   "cell_type": "code",
   "execution_count": 44,
   "metadata": {},
   "outputs": [
    {
     "name": "stdout",
     "output_type": "stream",
     "text": [
      "Frank\n"
     ]
    }
   ],
   "source": [
    "source = 'Young Frankstein'\n",
    "m = re.search('Frank',source)\n",
    "if m:\n",
    "    print(m.group())"
   ]
  },
  {
   "cell_type": "code",
   "execution_count": 47,
   "metadata": {},
   "outputs": [
    {
     "name": "stdout",
     "output_type": "stream",
     "text": [
      "its not aval at the start of the string\n"
     ]
    }
   ],
   "source": [
    "source = 'Young Frankstein'\n",
    "m = re.match('Frank',source)\n",
    "if m:\n",
    "    print(m.group())\n",
    "else:\n",
    "    print('its not aval at the start of the string')"
   ]
  },
  {
   "cell_type": "code",
   "execution_count": 46,
   "metadata": {},
   "outputs": [
    {
     "name": "stdout",
     "output_type": "stream",
     "text": [
      "Young\n"
     ]
    }
   ],
   "source": [
    "source = 'Young Frankstein'\n",
    "m = re.match('Young',source)\n",
    "if m:\n",
    "    print(m.group())"
   ]
  },
  {
   "cell_type": "markdown",
   "metadata": {},
   "source": [
    "# Common Pyton regex Paterns\n",
    "\n",
    "w mathces alphanumeric characters\n",
    "\n",
    "d matches, which means 0-9\n",
    "\n",
    "s matches whitespace characters\n",
    "\n",
    "S matches non-whitespace characters"
   ]
  },
  {
   "cell_type": "code",
   "execution_count": 52,
   "metadata": {},
   "outputs": [],
   "source": [
    "cc = 'clinical 3 22, 42  8tests Conducted AROUND 232km'"
   ]
  },
  {
   "cell_type": "code",
   "execution_count": 53,
   "metadata": {},
   "outputs": [
    {
     "name": "stdout",
     "output_type": "stream",
     "text": [
      "['232']"
     ]
    }
   ],
   "source": [
    "print(re.findall(\"\\d[0-9]\\d\",cc), end = '')"
   ]
  },
  {
   "cell_type": "code",
   "execution_count": 54,
   "metadata": {},
   "outputs": [
    {
     "name": "stdout",
     "output_type": "stream",
     "text": [
      "['22', '42', '23']"
     ]
    }
   ],
   "source": [
    "print(re.findall(\"[0-9][0-9]\",cc), end = '')"
   ]
  },
  {
   "cell_type": "code",
   "execution_count": 55,
   "metadata": {},
   "outputs": [
    {
     "name": "stdout",
     "output_type": "stream",
     "text": [
      "['232']"
     ]
    }
   ],
   "source": [
    "print(re.findall(\"[0-9][0-9][0-9]\",cc), end = '')"
   ]
  },
  {
   "cell_type": "code",
   "execution_count": 56,
   "metadata": {},
   "outputs": [
    {
     "name": "stdout",
     "output_type": "stream",
     "text": [
      "['22', '42', '232']"
     ]
    }
   ],
   "source": [
    "print(re.findall(\"[0-9][0-9]{1,3}\",cc), end = '')"
   ]
  },
  {
   "cell_type": "code",
   "execution_count": 62,
   "metadata": {},
   "outputs": [
    {
     "name": "stdout",
     "output_type": "stream",
     "text": [
      "['22', '42', '232']"
     ]
    }
   ],
   "source": [
    "print(re.findall(\"\\d\\d{1,3}\",cc), end = '')"
   ]
  },
  {
   "cell_type": "code",
   "execution_count": 60,
   "metadata": {},
   "outputs": [
    {
     "name": "stdout",
     "output_type": "stream",
     "text": [
      "['3', '22', '42', '8', '232']"
     ]
    }
   ],
   "source": [
    "print(re.findall(\"\\d[0-9]*\",cc), end = '')"
   ]
  },
  {
   "cell_type": "code",
   "execution_count": 61,
   "metadata": {},
   "outputs": [
    {
     "name": "stdout",
     "output_type": "stream",
     "text": [
      "['clinical', '', '', '', '', '', '', '', '', '', '', '', '', 'tests', '', '', 'onducted', '', '', '', '', '', '', '', '', '', '', '', 'km', '']"
     ]
    }
   ],
   "source": [
    "print(re.findall(\"[a-z]*\",cc), end = '')"
   ]
  },
  {
   "cell_type": "code",
   "execution_count": 63,
   "metadata": {},
   "outputs": [
    {
     "name": "stdout",
     "output_type": "stream",
     "text": [
      "['clinical', '', '', '', '', '', '', '', '', '', '', '', '', 'tests', '', 'Conducted', '', 'AROUND', '', '', '', '', 'km', '']"
     ]
    }
   ],
   "source": [
    "print(re.findall(\"[a-z]*\",cc,flags=re.IGNORECASE), end = '')"
   ]
  },
  {
   "cell_type": "code",
   "execution_count": 67,
   "metadata": {},
   "outputs": [
    {
     "name": "stdout",
     "output_type": "stream",
     "text": [
      "['3']\n"
     ]
    }
   ],
   "source": [
    "print(re.findall(r'(?<!\\d)[0-9]\\b',cc))  # negative lookbehind assertion"
   ]
  },
  {
   "cell_type": "code",
   "execution_count": 68,
   "metadata": {},
   "outputs": [
    {
     "data": {
      "text/plain": [
       "'They ate 5 apples and 5 oranges'"
      ]
     },
     "execution_count": 68,
     "metadata": {},
     "output_type": "execute_result"
    }
   ],
   "source": [
    "fr = 'They ate five apples and five oranges'\n",
    "re.sub(r'five','5',fr)"
   ]
  },
  {
   "cell_type": "code",
   "execution_count": null,
   "metadata": {},
   "outputs": [],
   "source": [
    "# realpython"
   ]
  },
  {
   "cell_type": "code",
   "execution_count": 72,
   "metadata": {},
   "outputs": [
    {
     "data": {
      "text/plain": [
       "('Hello9', 'World')"
      ]
     },
     "execution_count": 72,
     "metadata": {},
     "output_type": "execute_result"
    }
   ],
   "source": [
    "pattern = re.compile(\"(\\w+) (\\w+)\")\n",
    "match = pattern.search(\"Hello9 World\")\n",
    "match.groups()"
   ]
  },
  {
   "cell_type": "code",
   "execution_count": null,
   "metadata": {},
   "outputs": [],
   "source": []
  }
 ],
 "metadata": {
  "kernelspec": {
   "display_name": "Python 3",
   "language": "python",
   "name": "python3"
  },
  "language_info": {
   "codemirror_mode": {
    "name": "ipython",
    "version": 3
   },
   "file_extension": ".py",
   "mimetype": "text/x-python",
   "name": "python",
   "nbconvert_exporter": "python",
   "pygments_lexer": "ipython3",
   "version": "3.7.4"
  }
 },
 "nbformat": 4,
 "nbformat_minor": 2
}
